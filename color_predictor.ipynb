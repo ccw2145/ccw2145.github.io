{
 "cells": [
  {
   "cell_type": "markdown",
   "metadata": {},
   "source": [
    "## Predict the color based on name"
   ]
  },
  {
   "cell_type": "markdown",
   "metadata": {},
   "source": [
    "* Enter some text and the model outputs a color block predicting the color\n",
    "* Trained on color names and their RGB values"
   ]
  },
  {
   "cell_type": "code",
   "execution_count": 1,
   "metadata": {
    "colab": {},
    "colab_type": "code",
    "id": "6ao-JFaulDlA"
   },
   "outputs": [
    {
     "name": "stderr",
     "output_type": "stream",
     "text": [
      "/anaconda3/lib/python3.6/site-packages/h5py/__init__.py:36: FutureWarning: Conversion of the second argument of issubdtype from `float` to `np.floating` is deprecated. In future, it will be treated as `np.float64 == np.dtype(float).type`.\n",
      "  from ._conv import register_converters as _register_converters\n"
     ]
    }
   ],
   "source": [
    "import tensorflow as tf\n",
    "tf.enable_eager_execution()\n",
    "\n",
    "from tensorflow.keras.preprocessing.text import Tokenizer\n",
    "from tensorflow.keras.preprocessing.sequence import pad_sequences\n",
    "import csv \n",
    "import matplotlib.pyplot as plt\n",
    "import numpy as np\n",
    "import os"
   ]
  },
  {
   "cell_type": "code",
   "execution_count": 2,
   "metadata": {
    "colab": {
     "base_uri": "https://localhost:8080/",
     "height": 187
    },
    "colab_type": "code",
    "id": "Bmm0DUpnlNAw",
    "outputId": "6765bf99-ab43-4456-96f8-31927414b784"
   },
   "outputs": [
    {
     "name": "stdout",
     "output_type": "stream",
     "text": [
      "  % Total    % Received % Xferd  Average Speed   Time    Time     Time  Current\n",
      "                                 Dload  Upload   Total   Spent    Left  Speed\n",
      "100  323k  100  323k    0     0   909k      0 --:--:-- --:--:-- --:--:--  907k\n",
      "name,red,green,blue\n",
      "parakeet,174,182,87\n",
      "saddle brown,88,52,1\n",
      "cucumber crush,222,237,215\n",
      "pool blue,134,194,201\n",
      "distance,98,110,130\n",
      "light urple,179,111,246\n",
      "east side,172,145,206\n",
      "florida seashells,250,228,199\n",
      "paris,145,167,189\n"
     ]
    }
   ],
   "source": [
    "# Download the colors dataset\n",
    "if not os.path.exists('colors.csv'):\n",
    "  !curl -O 'https://raw.githubusercontent.com/random-forests/datasets/master/colors.csv'\n",
    "!head colors.csv"
   ]
  },
  {
   "cell_type": "code",
   "execution_count": 3,
   "metadata": {
    "colab": {
     "base_uri": "https://localhost:8080/",
     "height": 51
    },
    "colab_type": "code",
    "id": "A_hCjUoElOOo",
    "outputId": "7c9092c4-17ba-4193-b804-4fbfe61fc50b"
   },
   "outputs": [
    {
     "name": "stdout",
     "output_type": "stream",
     "text": [
      "14157 colors downloaded\n",
      "For example ('parakeet', 0.6823529411764706, 0.7137254901960784, 0.3411764705882353)\n"
     ]
    }
   ],
   "source": [
    "# Read the data\n",
    "colors_rgb = []\n",
    "csv_reader = csv.reader(open('colors.csv'), delimiter=',')\n",
    "next(csv_reader) # Remove the header\n",
    "for row in csv_reader:\n",
    "    name, r, g, b = row[0].lower().strip(), float(row[1]) / 255.0, float(row[2]) / 255.0, float(row[3]) / 255.0\n",
    "    colors_rgb.append((name, r, g, b))\n",
    "print(len(colors_rgb), 'colors downloaded')\n",
    "print('For example', colors_rgb[0])"
   ]
  },
  {
   "cell_type": "code",
   "execution_count": 4,
   "metadata": {
    "colab": {},
    "colab_type": "code",
    "id": "ISanLTTkm2qq"
   },
   "outputs": [],
   "source": [
    "names = [item[0] for item in colors_rgb]"
   ]
  },
  {
   "cell_type": "code",
   "execution_count": 5,
   "metadata": {
    "colab": {},
    "colab_type": "code",
    "id": "L1sjZ_tYnGNE"
   },
   "outputs": [],
   "source": [
    "maxlen = 25\n",
    "t = Tokenizer(char_level=True)\n",
    "t.fit_on_texts(names)\n",
    "tokenized = t.texts_to_sequences(names)\n",
    "padded_names = pad_sequences(tokenized, maxlen=maxlen)\n",
    "padded_names = padded_names.astype('float32')"
   ]
  },
  {
   "cell_type": "code",
   "execution_count": 6,
   "metadata": {
    "colab": {},
    "colab_type": "code",
    "id": "JOQIb8CdnGuV"
   },
   "outputs": [],
   "source": [
    "r = [item[1] for item in colors_rgb]\n",
    "g = [item[2] for item in colors_rgb]\n",
    "b = [item[3] for item in colors_rgb]\n",
    "targets = np.column_stack([r, g, b])"
   ]
  },
  {
   "cell_type": "code",
   "execution_count": 8,
   "metadata": {
    "colab": {
     "base_uri": "https://localhost:8080/",
     "height": 238
    },
    "colab_type": "code",
    "id": "rG_R0s_mnI2O",
    "outputId": "974a3251-4ff0-48b8-96de-944fffd9d388"
   },
   "outputs": [
    {
     "name": "stdout",
     "output_type": "stream",
     "text": [
      "_________________________________________________________________\n",
      "Layer (type)                 Output Shape              Param #   \n",
      "=================================================================\n",
      "reshape_1 (Reshape)          (None, 1, 25)             0         \n",
      "_________________________________________________________________\n",
      "gru (GRU)                    (None, 1, 128)            59136     \n",
      "_________________________________________________________________\n",
      "gru_1 (GRU)                  (None, 128)               98688     \n",
      "_________________________________________________________________\n",
      "dense_2 (Dense)              (None, 64)                8256      \n",
      "_________________________________________________________________\n",
      "dense_3 (Dense)              (None, 3)                 195       \n",
      "=================================================================\n",
      "Total params: 166,275\n",
      "Trainable params: 166,275\n",
      "Non-trainable params: 0\n",
      "_________________________________________________________________\n"
     ]
    }
   ],
   "source": [
    "model = tf.keras.Sequential()\n",
    "model.add(tf.keras.layers.Reshape((1, maxlen), input_shape=(maxlen,)))\n",
    "# FIX ME\n",
    "model.add(tf.keras.layers.GRU(128, return_sequences=True))\n",
    "model.add(tf.keras.layers.GRU(128))\n",
    "model.add(tf.keras.layers.Dense(64, activation='relu'))\n",
    "model.add(tf.keras.layers.Dense(3, activation='sigmoid'))\n",
    "model.compile(optimizer=tf.train.AdamOptimizer(), loss='mse') # NO SOFTMAX since we want the predicted value not probs!!\n",
    "model.summary()"
   ]
  },
  {
   "cell_type": "code",
   "execution_count": 9,
   "metadata": {
    "colab": {
     "base_uri": "https://localhost:8080/",
     "height": 51
    },
    "colab_type": "code",
    "id": "sqOfMfWxoGiE",
    "outputId": "985b9ac5-144d-47ac-b144-3fb5f52270cf"
   },
   "outputs": [
    {
     "name": "stdout",
     "output_type": "stream",
     "text": [
      "Epoch 1/5\n",
      "399/399 [==============================] - 9s 21ms/step - loss: 0.0630 - val_loss: 0.0632\n",
      "Epoch 2/5\n",
      "399/399 [==============================] - 9s 21ms/step - loss: 0.0594 - val_loss: 0.0635\n",
      "Epoch 3/5\n",
      "399/399 [==============================] - 9s 21ms/step - loss: 0.0575 - val_loss: 0.0613\n",
      "Epoch 4/5\n",
      "399/399 [==============================] - 8s 21ms/step - loss: 0.0559 - val_loss: 0.0603\n",
      "Epoch 5/5\n",
      "399/399 [==============================] - 8s 21ms/step - loss: 0.0545 - val_loss: 0.0618\n"
     ]
    }
   ],
   "source": [
    "# we're going to massively overfit on the training\n",
    "# data... that's fine for this experiment\n",
    "history = model.fit(padded_names, targets, epochs=5, validation_split=0.1)"
   ]
  },
  {
   "cell_type": "code",
   "execution_count": 10,
   "metadata": {
    "colab": {
     "base_uri": "https://localhost:8080/",
     "height": 280
    },
    "colab_type": "code",
    "id": "yzQX11aDoUZ2",
    "outputId": "e67a49b6-3c1a-4de6-fd41-2f5afafeae3f"
   },
   "outputs": [
    {
     "data": {
      "image/png": "[encoded data removed]",
      "text/plain": [
       "<matplotlib.figure.Figure at 0x112bd3f60>"
      ]
     },
     "metadata": {},
     "output_type": "display_data"
    }
   ],
   "source": [
    "# let's see how badly we've overfit\n",
    "# (don't worry about it for this assignment)\n",
    "import matplotlib.pyplot as plt\n",
    "%matplotlib inline\n",
    "loss = history.history['loss']\n",
    "val_loss = history.history['val_loss']\n",
    "epochs = range(len(loss))\n",
    "plt.plot(epochs, loss, 'bo')\n",
    "plt.plot(epochs, val_loss, 'b')\n",
    "plt.title('Training and validation loss')\n",
    "plt.show()"
   ]
  },
  {
   "cell_type": "code",
   "execution_count": 11,
   "metadata": {
    "colab": {},
    "colab_type": "code",
    "id": "_IYXreehqc7f"
   },
   "outputs": [],
   "source": [
    "# plots a color image\n",
    "def plot_rgb(rgb):\n",
    "    data = [[rgb]]\n",
    "    plt.figure(figsize=(2,2))\n",
    "    plt.imshow(data, interpolation='nearest')\n",
    "    plt.axis('off')\n",
    "    plt.show()"
   ]
  },
  {
   "cell_type": "code",
   "execution_count": 12,
   "metadata": {
    "colab": {},
    "colab_type": "code",
    "id": "Fc5TsbxQqep1"
   },
   "outputs": [],
   "source": [
    "def scale(n):\n",
    "    return int(n * 255)"
   ]
  },
  {
   "cell_type": "code",
   "execution_count": 26,
   "metadata": {
    "colab": {},
    "colab_type": "code",
    "id": "_e1E5PMTqhcd"
   },
   "outputs": [],
   "source": [
    "def predict(name):\n",
    "    tokenized = t.texts_to_sequences([name])\n",
    "    padded = pad_sequences(tokenized, maxlen=maxlen)\n",
    "    padded = padded.astype('float32')\n",
    "    pred = model.predict(np.array(padded))[0]\n",
    "    # Check the shapes here if you run into trouble with the next \n",
    "    # method after adding your RNN\n",
    "    print(pred)\n",
    "    r, g, b = scale(pred[0]), scale(pred[1]), scale(pred[2])\n",
    "    print(name + ',', 'R,G,B:', r,g,b)\n",
    "    plot_rgb(pred)"
   ]
  },
  {
   "cell_type": "code",
   "execution_count": 27,
   "metadata": {
    "colab": {
     "base_uri": "https://localhost:8080/",
     "height": 539
    },
    "colab_type": "code",
    "id": "C2rwJDV9qjJN",
    "outputId": "12bed047-eb42-42cc-da91-163bb058b6b1"
   },
   "outputs": [
    {
     "name": "stdout",
     "output_type": "stream",
     "text": [
      "[0.4922469 0.6660514 0.7520429]\n",
      "light blue, R,G,B: 125 169 191\n"
     ]
    },
    {
     "data": {
      "image/png": "[encoded data removed]",
      "text/plain": [
       "<matplotlib.figure.Figure at 0x115630d30>"
      ]
     },
     "metadata": {},
     "output_type": "display_data"
    },
    {
     "name": "stdout",
     "output_type": "stream",
     "text": [
      "[0.44553363 0.531113   0.6146486 ]\n",
      "blue, R,G,B: 113 135 156\n"
     ]
    },
    {
     "data": {
      "image/png": "[encoded data removed]",
      "text/plain": [
       "<matplotlib.figure.Figure at 0x1158875f8>"
      ]
     },
     "metadata": {},
     "output_type": "display_data"
    },
    {
     "name": "stdout",
     "output_type": "stream",
     "text": [
      "[0.7328921  0.49961418 0.38153782]\n",
      "orange, R,G,B: 186 127 97\n"
     ]
    },
    {
     "data": {
      "image/png": "[encoded data removed]",
      "text/plain": [
       "<matplotlib.figure.Figure at 0x1158d07f0>"
      ]
     },
     "metadata": {},
     "output_type": "display_data"
    }
   ],
   "source": [
    "# some \"test\" data\n",
    "predict(\"light blue\")\n",
    "predict(\"blue\")\n",
    "predict(\"orange\")"
   ]
  },
  {
   "cell_type": "code",
   "execution_count": 0,
   "metadata": {
    "colab": {},
    "colab_type": "code",
    "id": "nEBcGiqSqk-W"
   },
   "outputs": [],
   "source": []
  }
 ],
 "metadata": {
  "accelerator": "GPU",
  "colab": {
   "collapsed_sections": [],
   "name": "8_colorbot_predict_starter.ipynb",
   "provenance": [],
   "version": "0.3.2"
  },
  "kernelspec": {
   "display_name": "Python 3",
   "language": "python",
   "name": "python3"
  },
  "language_info": {
   "codemirror_mode": {
    "name": "ipython",
    "version": 3
   },
   "file_extension": ".py",
   "mimetype": "text/x-python",
   "name": "python",
   "nbconvert_exporter": "python",
   "pygments_lexer": "ipython3",
   "version": "3.6.5"
  }
 },
 "nbformat": 4,
 "nbformat_minor": 1
}
